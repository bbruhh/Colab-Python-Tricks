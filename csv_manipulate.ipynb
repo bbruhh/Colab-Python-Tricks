{
  "nbformat": 4,
  "nbformat_minor": 0,
  "metadata": {
    "colab": {
      "name": "csv_manipulate.ipynb",
      "version": "0.3.2",
      "provenance": [],
      "collapsed_sections": []
    }
  },
  "cells": [
    {
      "cell_type": "markdown",
      "metadata": {
        "id": "view-in-github",
        "colab_type": "text"
      },
      "source": [
        "[View in Colaboratory](https://colab.research.google.com/github/gmihaila/snippets_py/blob/master/csv_manipulate.ipynb)"
      ]
    },
    {
      "metadata": {
        "id": "doMxoP0DQ14Q",
        "colab_type": "text"
      },
      "cell_type": "markdown",
      "source": [
        "## Write to CSV File \n",
        "\n",
        "by GeorgeM"
      ]
    },
    {
      "metadata": {
        "id": "H5I59xpwR3Um",
        "colab_type": "code",
        "colab": {
          "base_uri": "https://localhost:8080/",
          "height": 34
        },
        "outputId": "3d4bf342-49b5-430f-c90e-2eb4bb7c7b07"
      },
      "cell_type": "code",
      "source": [
        "ls"
      ],
      "execution_count": 1,
      "outputs": [
        {
          "output_type": "stream",
          "text": [
            "\u001b[0m\u001b[01;34mdatalab\u001b[0m/  \u001b[01;34mdrive\u001b[0m/\r\n"
          ],
          "name": "stdout"
        }
      ]
    },
    {
      "metadata": {
        "id": "DHGFO1vWQ0kD",
        "colab_type": "code",
        "colab": {}
      },
      "cell_type": "code",
      "source": [
        "import csv"
      ],
      "execution_count": 0,
      "outputs": []
    },
    {
      "metadata": {
        "id": "Hu7WIq9kULP4",
        "colab_type": "text"
      },
      "cell_type": "markdown",
      "source": [
        "## Write to CSV"
      ]
    },
    {
      "metadata": {
        "id": "hqx3AW5MQ8jp",
        "colab_type": "code",
        "colab": {}
      },
      "cell_type": "code",
      "source": [
        "path = './test.csv'\n",
        "\n",
        "# 'a+b' to make it append\n",
        "\n",
        "with open(path, \"wb\") as f:\n",
        "    writer = csv.writer(f)\n",
        "    writer.writerows([['test', 'play']])\n",
        " \n"
      ],
      "execution_count": 0,
      "outputs": []
    },
    {
      "metadata": {
        "id": "4xcIvwkXXoiV",
        "colab_type": "text"
      },
      "cell_type": "markdown",
      "source": [
        "## Read CSV"
      ]
    },
    {
      "metadata": {
        "id": "l5F_umfvUNd1",
        "colab_type": "code",
        "colab": {
          "base_uri": "https://localhost:8080/",
          "height": 34
        },
        "outputId": "99a44329-4d80-4fba-c3d1-9257155acc4c"
      },
      "cell_type": "code",
      "source": [
        "with open(path) as csvfile:\n",
        "    readCSV = csv.reader(csvfile)\n",
        "    for row in readCSV:\n",
        "      print row"
      ],
      "execution_count": 0,
      "outputs": [
        {
          "output_type": "stream",
          "text": [
            "['test', 'play']\n"
          ],
          "name": "stdout"
        }
      ]
    }
  ]
}