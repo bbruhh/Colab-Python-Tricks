{
  "nbformat": 4,
  "nbformat_minor": 0,
  "metadata": {
    "colab": {
      "name": "filter_outliers.ipynb",
      "version": "0.3.2",
      "provenance": [],
      "collapsed_sections": []
    }
  },
  "cells": [
    {
      "cell_type": "markdown",
      "metadata": {
        "id": "view-in-github",
        "colab_type": "text"
      },
      "source": [
        "[View in Colaboratory](https://colab.research.google.com/github/gmihaila/snippets_py/blob/master/filter_outliers.ipynb)"
      ]
    },
    {
      "metadata": {
        "id": "Ftsn2V3zwEz9",
        "colab_type": "text"
      },
      "cell_type": "markdown",
      "source": [
        "## Filter Outliers using standard deviation\n",
        "\n",
        "by GeorgeM"
      ]
    },
    {
      "metadata": {
        "id": "09DyxlYqwB-D",
        "colab_type": "code",
        "colab": {
          "base_uri": "https://localhost:8080/",
          "height": 133
        },
        "outputId": "79732907-6433-4a8e-93f8-94d5066bf7f6"
      },
      "cell_type": "code",
      "source": [
        "import numpy as np\n",
        "\n",
        "def FilterNoise(data, std=1):\n",
        "    return data[abs(data - np.mean(data)) < std * np.std(data)]\n",
        "\n",
        "d = np.array([4.236929178237915, 4.256103992462158, 4.252609014511108, 4.210381507873535, 4.189822435379028,\n",
        "            4.235728025436401, 4.251481056213379, 4.251237392425537])\n",
        "print d\n",
        "print np.mean(d)\n",
        "print '\\n'\n",
        "\n",
        "filtered_d = FilterNoise(d)\n",
        "print filtered_d\n",
        "print np.mean(filtered_d)"
      ],
      "execution_count": 2,
      "outputs": [
        {
          "output_type": "stream",
          "text": [
            "[4.23692918 4.25610399 4.25260901 4.21038151 4.18982244 4.23572803\n",
            " 4.25148106 4.25123739]\n",
            "4.235536575317383\n",
            "\n",
            "\n",
            "[4.23692918 4.25610399 4.25260901 4.23572803 4.25148106 4.25123739]\n",
            "4.2473481098810835\n"
          ],
          "name": "stdout"
        }
      ]
    }
  ]
}