{
  "nbformat": 4,
  "nbformat_minor": 0,
  "metadata": {
    "colab": {
      "name": "check_if_strings_are_anagrams.ipynb",
      "version": "0.3.2",
      "provenance": [],
      "collapsed_sections": [],
      "include_colab_link": true
    }
  },
  "cells": [
    {
      "cell_type": "markdown",
      "metadata": {
        "id": "view-in-github",
        "colab_type": "text"
      },
      "source": [
        "[View in Colaboratory](https://colab.research.google.com/github/gmihaila/snippets_py/blob/master/check_if_strings_are_anagrams.ipynb)"
      ]
    },
    {
      "metadata": {
        "id": "pAclQtbngYMn",
        "colab_type": "text"
      },
      "cell_type": "markdown",
      "source": [
        "# Checking if two words are anagrams"
      ]
    },
    {
      "metadata": {
        "id": "Kj2IhpG5e5EG",
        "colab_type": "code",
        "colab": {
          "base_uri": "https://localhost:8080/",
          "height": 35
        },
        "outputId": "225ccf93-d517-43b1-a666-c1c0e4e6a672"
      },
      "cell_type": "code",
      "source": [
        "from collections import Counter\n",
        "\n",
        "str1 = \"cat\"\n",
        "str2 = \"tac\"\n",
        "\n",
        "Counter(str1) == Counter(str2)"
      ],
      "execution_count": 5,
      "outputs": [
        {
          "output_type": "execute_result",
          "data": {
            "text/plain": [
              "True"
            ]
          },
          "metadata": {
            "tags": []
          },
          "execution_count": 5
        }
      ]
    }
  ]
}