{
  "nbformat": 4,
  "nbformat_minor": 0,
  "metadata": {
    "colab": {
      "name": "reverse_string.ipynb",
      "version": "0.3.2",
      "provenance": [],
      "collapsed_sections": [],
      "include_colab_link": true
    }
  },
  "cells": [
    {
      "cell_type": "markdown",
      "metadata": {
        "id": "view-in-github",
        "colab_type": "text"
      },
      "source": [
        "[View in Colaboratory](https://colab.research.google.com/github/gmihaila/snippets_py/blob/master/reverse_string.ipynb)"
      ]
    },
    {
      "metadata": {
        "id": "aprhKcekhLJg",
        "colab_type": "text"
      },
      "cell_type": "markdown",
      "source": [
        "# Reverse a String"
      ]
    },
    {
      "metadata": {
        "id": "XP8aRo-KhI7h",
        "colab_type": "code",
        "colab": {
          "base_uri": "https://localhost:8080/",
          "height": 35
        },
        "outputId": "1ab69df5-2877-4e58-8df5-7ef9d9cbf0cb"
      },
      "cell_type": "code",
      "source": [
        "''' reversing string with special case of slice step param '''\n",
        "\n",
        "a = 'abcdefghijklmnopqrstuvwxyz'\n",
        "print(a[::-1])"
      ],
      "execution_count": 1,
      "outputs": [
        {
          "output_type": "stream",
          "text": [
            "zyxwvutsrqponmlkjihgfedcba\n"
          ],
          "name": "stdout"
        }
      ]
    },
    {
      "metadata": {
        "id": "M2d8PKkFhetM",
        "colab_type": "code",
        "colab": {
          "base_uri": "https://localhost:8080/",
          "height": 485
        },
        "outputId": "e4ffa193-ca34-432a-a5be-f2416cf8e41d"
      },
      "cell_type": "code",
      "source": [
        "''' iterating eover stirng reversly efficiantly '''\n",
        "for char in reversed(a):\n",
        "  print(char)"
      ],
      "execution_count": 2,
      "outputs": [
        {
          "output_type": "stream",
          "text": [
            "z\n",
            "y\n",
            "x\n",
            "w\n",
            "v\n",
            "u\n",
            "t\n",
            "s\n",
            "r\n",
            "q\n",
            "p\n",
            "o\n",
            "n\n",
            "m\n",
            "l\n",
            "k\n",
            "j\n",
            "i\n",
            "h\n",
            "g\n",
            "f\n",
            "e\n",
            "d\n",
            "c\n",
            "b\n",
            "a\n"
          ],
          "name": "stdout"
        }
      ]
    },
    {
      "metadata": {
        "id": "dlQZKWnPhphp",
        "colab_type": "code",
        "colab": {
          "base_uri": "https://localhost:8080/",
          "height": 35
        },
        "outputId": "f3e5a796-b435-4666-d636-c0e1c2843149"
      },
      "cell_type": "code",
      "source": [
        "''' reversing an integer through type conversion and slicing '''\n",
        "num = 123456789\n",
        "print(int(str(num)[::-1]))"
      ],
      "execution_count": 4,
      "outputs": [
        {
          "output_type": "stream",
          "text": [
            "987654321\n"
          ],
          "name": "stdout"
        }
      ]
    }
  ]
}