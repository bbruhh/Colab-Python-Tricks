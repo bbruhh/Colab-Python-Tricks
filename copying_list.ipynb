{
  "nbformat": 4,
  "nbformat_minor": 0,
  "metadata": {
    "colab": {
      "name": "copying_list.ipynb",
      "version": "0.3.2",
      "provenance": [],
      "collapsed_sections": [],
      "include_colab_link": true
    },
    "kernelspec": {
      "name": "python3",
      "display_name": "Python 3"
    }
  },
  "cells": [
    {
      "cell_type": "markdown",
      "metadata": {
        "id": "view-in-github",
        "colab_type": "text"
      },
      "source": [
        "[View in Colaboratory](https://colab.research.google.com/github/gmihaila/snippets_py/blob/master/copying_list.ipynb)"
      ]
    },
    {
      "metadata": {
        "id": "-RYCn9Oguqaw",
        "colab_type": "text"
      },
      "cell_type": "markdown",
      "source": [
        "## Copying List"
      ]
    },
    {
      "metadata": {
        "id": "V7euekDDuqMY",
        "colab_type": "code",
        "colab": {
          "base_uri": "https://localhost:8080/",
          "height": 34
        },
        "outputId": "772be24b-0c29-4e81-bc6a-aeeae35dc25b"
      },
      "cell_type": "code",
      "source": [
        "a = [1,2,3,4]\n",
        "\n",
        "b = a\n",
        "\n",
        "b[0] = 999\n",
        "\n",
        "print(a,b)\n",
        "# both a and be will stay the same"
      ],
      "execution_count": 1,
      "outputs": [
        {
          "output_type": "stream",
          "text": [
            "([999, 2, 3, 4], [999, 2, 3, 4])\n"
          ],
          "name": "stdout"
        }
      ]
    },
    {
      "metadata": {
        "id": "Q1uCr7bpun0b",
        "colab_type": "code",
        "colab": {
          "base_uri": "https://localhost:8080/",
          "height": 34
        },
        "outputId": "9081bbe4-b669-4efe-dae7-59b322c74f13"
      },
      "cell_type": "code",
      "source": [
        "a = [1,2,3,4]\n",
        "\n",
        "b = a[:]\n",
        "\n",
        "b[0] = 999\n",
        "\n",
        "print(a,b)\n",
        "# make a shallow copy of a"
      ],
      "execution_count": 2,
      "outputs": [
        {
          "output_type": "stream",
          "text": [
            "([1, 2, 3, 4], [999, 2, 3, 4])\n"
          ],
          "name": "stdout"
        }
      ]
    },
    {
      "metadata": {
        "id": "Kd-_yfMovCQE",
        "colab_type": "code",
        "colab": {
          "base_uri": "https://localhost:8080/",
          "height": 34
        },
        "outputId": "f215055b-28c1-4d84-bd3b-56f4bec41948"
      },
      "cell_type": "code",
      "source": [
        "a = [1,2,3,4]\n",
        "\n",
        "b = list(a)\n",
        "\n",
        "b[0] = 999\n",
        "\n",
        "print(a,b)\n",
        "# copy list by typecasting"
      ],
      "execution_count": 3,
      "outputs": [
        {
          "output_type": "stream",
          "text": [
            "([1, 2, 3, 4], [999, 2, 3, 4])\n"
          ],
          "name": "stdout"
        }
      ]
    },
    {
      "metadata": {
        "id": "zfQw_i-yvJT4",
        "colab_type": "code",
        "colab": {
          "base_uri": "https://localhost:8080/",
          "height": 34
        },
        "outputId": "41f03973-7ed8-44e8-ec33-5e88ff7bf340"
      },
      "cell_type": "code",
      "source": [
        "\n",
        "a = [1,2,3,4]\n",
        "\n",
        "b = a.copy()\n",
        "\n",
        "b[0] = 999\n",
        "\n",
        "print(a,b)\n",
        "\n",
        "# list.copy() only works in Python 3"
      ],
      "execution_count": 1,
      "outputs": [
        {
          "output_type": "stream",
          "text": [
            "[1, 2, 3, 4] [999, 2, 3, 4]\n"
          ],
          "name": "stdout"
        }
      ]
    },
    {
      "metadata": {
        "id": "vwsrxfz_vmMp",
        "colab_type": "code",
        "colab": {
          "base_uri": "https://localhost:8080/",
          "height": 34
        },
        "outputId": "babbbba4-1a8f-4c5a-b5ab-12a107384d50"
      },
      "cell_type": "code",
      "source": [
        "from copy import deepcopy\n",
        "\n",
        "a = [[1,2,3,4], [1,2,54,76,87]]\n",
        "\n",
        "b = deepcopy(a)\n",
        "\n",
        "b[0][3] = 999\n",
        "\n",
        "print(a,b)\n",
        "\n",
        "# good for nested listst"
      ],
      "execution_count": 3,
      "outputs": [
        {
          "output_type": "stream",
          "text": [
            "[[1, 2, 3, 4], [1, 2, 54, 76, 87]] [[1, 2, 3, 999], [1, 2, 54, 76, 87]]\n"
          ],
          "name": "stdout"
        }
      ]
    }
  ]
}