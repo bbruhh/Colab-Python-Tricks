{
  "nbformat": 4,
  "nbformat_minor": 0,
  "metadata": {
    "colab": {
      "name": "chained_function_call.ipynb",
      "version": "0.3.2",
      "provenance": [],
      "collapsed_sections": [],
      "include_colab_link": true
    }
  },
  "cells": [
    {
      "cell_type": "markdown",
      "metadata": {
        "id": "view-in-github",
        "colab_type": "text"
      },
      "source": [
        "[View in Colaboratory](https://colab.research.google.com/github/gmihaila/snippets_py/blob/master/chained_function_call.ipynb)"
      ]
    },
    {
      "metadata": {
        "id": "_CUyagi-t3Ha",
        "colab_type": "text"
      },
      "cell_type": "markdown",
      "source": [
        "## Chained function call"
      ]
    },
    {
      "metadata": {
        "id": "F-jjgGzUt2Ck",
        "colab_type": "code",
        "colab": {
          "base_uri": "https://localhost:8080/",
          "height": 34
        },
        "outputId": "d99f2c11-939c-4adf-c06a-f3679a3d40eb"
      },
      "cell_type": "code",
      "source": [
        "def prod(a,b):\n",
        "  return a*b\n",
        "\n",
        "def sum(a,b):\n",
        "  return a+b\n",
        "\n",
        "a, b = 3, 10\n",
        "\n",
        "print((prod if a < b else sum)(a,b))"
      ],
      "execution_count": 1,
      "outputs": [
        {
          "output_type": "stream",
          "text": [
            "30\n"
          ],
          "name": "stdout"
        }
      ]
    }
  ]
}