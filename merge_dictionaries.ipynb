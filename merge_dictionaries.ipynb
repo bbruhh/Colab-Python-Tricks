{
  "nbformat": 4,
  "nbformat_minor": 0,
  "metadata": {
    "colab": {
      "name": "merge_dictionaries.ipynb",
      "version": "0.3.2",
      "provenance": [],
      "collapsed_sections": [],
      "include_colab_link": true
    },
    "kernelspec": {
      "name": "python3",
      "display_name": "Python 3"
    }
  },
  "cells": [
    {
      "cell_type": "markdown",
      "metadata": {
        "id": "view-in-github",
        "colab_type": "text"
      },
      "source": [
        "[View in Colaboratory](https://colab.research.google.com/github/gmihaila/snippets_py/blob/master/merge_dictionaries.ipynb)"
      ]
    },
    {
      "metadata": {
        "id": "3z4luRUVybpf",
        "colab_type": "text"
      },
      "cell_type": "markdown",
      "source": [
        "## Merge dict’s"
      ]
    },
    {
      "metadata": {
        "id": "imSj-mECyauQ",
        "colab_type": "code",
        "colab": {
          "base_uri": "https://localhost:8080/",
          "height": 34
        },
        "outputId": "606434a0-2212-480d-bc36-e93b1753ea53"
      },
      "cell_type": "code",
      "source": [
        "d1 = {'a':1}\n",
        "d2 = {'b':34}\n",
        "\n",
        "\n",
        "# python 3.5\n",
        "print({**d1, **d2})"
      ],
      "execution_count": 1,
      "outputs": [
        {
          "output_type": "stream",
          "text": [
            "{'a': 1, 'b': 34}\n"
          ],
          "name": "stdout"
        }
      ]
    },
    {
      "metadata": {
        "id": "FmSlWUT9yvta",
        "colab_type": "code",
        "colab": {
          "base_uri": "https://localhost:8080/",
          "height": 34
        },
        "outputId": "7bd988b8-dfea-45cc-ec88-fcf6e4f776be"
      },
      "cell_type": "code",
      "source": [
        "d1 = {'a':1}\n",
        "d2 = {'b':34}\n",
        "\n",
        "# python 3\n",
        "print(dict(d1.items() | d2.items()))"
      ],
      "execution_count": 2,
      "outputs": [
        {
          "output_type": "stream",
          "text": [
            "{'a': 1, 'b': 34}\n"
          ],
          "name": "stdout"
        }
      ]
    },
    {
      "metadata": {
        "id": "qVxPFolMy4PY",
        "colab_type": "code",
        "colab": {
          "base_uri": "https://localhost:8080/",
          "height": 34
        },
        "outputId": "67d964de-f2e6-41c7-a988-f0ca0d68dd20"
      },
      "cell_type": "code",
      "source": [
        "d1 = {'a':1}\n",
        "d2 = {'b':34}\n",
        "\n",
        "\n",
        "# works python 2 and 3\n",
        "d1.update(d2)\n",
        "print(d1)"
      ],
      "execution_count": 3,
      "outputs": [
        {
          "output_type": "stream",
          "text": [
            "{'a': 1, 'b': 34}\n"
          ],
          "name": "stdout"
        }
      ]
    }
  ]
}