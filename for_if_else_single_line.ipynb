{
  "nbformat": 4,
  "nbformat_minor": 0,
  "metadata": {
    "colab": {
      "name": "for_if_else_single_line.ipynb",
      "version": "0.3.2",
      "provenance": [],
      "collapsed_sections": [],
      "include_colab_link": true
    }
  },
  "cells": [
    {
      "cell_type": "markdown",
      "metadata": {
        "id": "view-in-github",
        "colab_type": "text"
      },
      "source": [
        "[View in Colaboratory](https://colab.research.google.com/github/gmihaila/snippets_py/blob/master/for_if_else_single_line.ipynb)"
      ]
    },
    {
      "metadata": {
        "id": "3ubJ--o8tDLy",
        "colab_type": "text"
      },
      "cell_type": "markdown",
      "source": [
        "## For loop with if-else in single line"
      ]
    },
    {
      "metadata": {
        "id": "kdR4nT4fs4HL",
        "colab_type": "code",
        "colab": {}
      },
      "cell_type": "code",
      "source": [
        "a = [1,2,3,-1]\n"
      ],
      "execution_count": 0,
      "outputs": []
    },
    {
      "metadata": {
        "id": "SJVttZl6s9Ol",
        "colab_type": "code",
        "colab": {
          "base_uri": "https://localhost:8080/",
          "height": 34
        },
        "outputId": "a8082e2a-7c5e-4750-9c48-486b2034b978"
      },
      "cell_type": "code",
      "source": [
        "[0 if i < 0 else i for i in a]"
      ],
      "execution_count": 2,
      "outputs": [
        {
          "output_type": "execute_result",
          "data": {
            "text/plain": [
              "[1, 2, 3, 0]"
            ]
          },
          "metadata": {
            "tags": []
          },
          "execution_count": 2
        }
      ]
    }
  ]
}