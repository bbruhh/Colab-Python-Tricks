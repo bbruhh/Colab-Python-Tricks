{
  "nbformat": 4,
  "nbformat_minor": 0,
  "metadata": {
    "colab": {
      "name": "web_crawl.ipynb",
      "version": "0.3.2",
      "provenance": [],
      "collapsed_sections": [],
      "include_colab_link": true
    }
  },
  "cells": [
    {
      "cell_type": "markdown",
      "metadata": {
        "id": "view-in-github",
        "colab_type": "text"
      },
      "source": [
        "[View in Colaboratory](https://colab.research.google.com/github/gmihaila/snippets_py/blob/master/web_crawl.ipynb)"
      ]
    },
    {
      "metadata": {
        "id": "am3NkmBVulb1",
        "colab_type": "text"
      },
      "cell_type": "markdown",
      "source": [
        "## Web Crawl\n",
        "\n",
        "This notebook is meant to serve as a small example project of how to get data from the web using Python. Here we will scrape the data from the web, parse the results using regular expressions, and visualize the data. This small project could probably be done a lot more efficiently by hand, but the ideas here are powerful and can be extended to much larger applications. There are many tools that a data scientist will need to use, and web scraping, regular expressions, and visualization are all good techniques to practice!"
      ]
    },
    {
      "metadata": {
        "id": "NLIsq9_-uiNd",
        "colab_type": "code",
        "colab": {}
      },
      "cell_type": "code",
      "source": [
        "# requests for fetching html of website\n",
        "import requests\n",
        "\n",
        "# import beautyful soup\n",
        "from bs4 import BeautifulSoup\n",
        "\n",
        "url = \"http://www.cleveland.com/metro/index.ssf/2017/12/case_western_reserve_university_president_barbara_snyders_base_salary_and_bonus_pay_tops_among_private_colleges_in_ohio.html\"\n",
        "\n",
        "headers = {'user-agent': 'Mozilla/5.0 (Macintosh; Intel Mac OS X 10_11_6) AppleWebKit/537.36 (KHTML, like Gecko) Chrome/53.0.2785.143 Safari/537.36'}\n",
        "\n",
        "# Make the request to a url\n",
        "r = requests.get(url, headers=headers, timeout=(3.05, 27))\n",
        "# Create soup from content of request\n",
        "c = r.content\n",
        "\n",
        "soup = BeautifulSoup(c)"
      ],
      "execution_count": 0,
      "outputs": []
    },
    {
      "metadata": {
        "id": "ij53EvIlvoIX",
        "colab_type": "text"
      },
      "cell_type": "markdown",
      "source": [
        "We can find an element on the page by inspecting the page (right click and hit inspect element). We then use a series of HTML selectors to find the appropriate tags which contain the content we are interested in. The next code block finds the main text of the entire article. We will then further subset the text to the relevant table and save it as a text object."
      ]
    },
    {
      "metadata": {
        "id": "jWM-on_Nvogk",
        "colab_type": "code",
        "colab": {}
      },
      "cell_type": "code",
      "source": [
        "# Find the element on the webpage\n",
        "main_content = soup.find('div', attrs = {'class': 'entry-content'})"
      ],
      "execution_count": 0,
      "outputs": []
    },
    {
      "metadata": {
        "id": "oeF8kWB3vx8E",
        "colab_type": "code",
        "colab": {
          "base_uri": "https://localhost:8080/",
          "height": 54
        },
        "outputId": "cb0e2aa0-f87c-4559-f05d-38bfa283332b"
      },
      "cell_type": "code",
      "source": [
        "# Extract the relevant information\n",
        "content = main_content.find('ul').text\n",
        "\n",
        "import pprint\n",
        "pprint.pprint(content)"
      ],
      "execution_count": 30,
      "outputs": [
        {
          "output_type": "stream",
          "text": [
            "u'\\nGrant Cornwell, College of Wooster (left in 2015): $911,651\\nMarvin Krislov, Oberlin College (left in 2016): \\xa0$829,913\\nMark Roosevelt, Antioch College, (left in 2015): $507,672\\nLaurie Joyner, Wittenberg University (left in 2015): $463,504\\nRichard Giese, University of Mount Union (left in 2015): $453,800\\nSean Decatur,Kenyon College: $451,698\\nAdam Weinberg, Denison University: $435,322\\nDaniel Dibiasio, Ohio Northern University: $414,716\\nDenvy Bowman, Capital University (left in 2016): $388,570\\nAnne Steele, Muskingum University (left in 2016): $384,233\\nKathy Krendl, Otterbein University: \\xa0$378,035\\nRockwell Jones, Ohio Wesleyan University: $366,625\\nRobert Helmer, Baldwin Wallace University: $365,616\\nRobert Huntington, Heidelberg University: $300,005\\nLori Varlotta, Hiram College: $293,336\\nJoseph Bruno, Marietta College (left in 2016): $288,295\\nW. Richard Merriman Jr., University of Mount Union (started in June 2015): $221,761\\n'\n"
          ],
          "name": "stdout"
        }
      ]
    },
    {
      "metadata": {
        "id": "qe616FeVzAtE",
        "colab_type": "text"
      },
      "cell_type": "markdown",
      "source": [
        "https://colab.research.google.com/drive/1zjMHPv3H7mV5iLWapiW9IF2yUoY2Jggg#scrollTo=bTYLGSParbOH "
      ]
    }
  ]
}