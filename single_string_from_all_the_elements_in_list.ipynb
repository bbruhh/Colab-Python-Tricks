{
  "nbformat": 4,
  "nbformat_minor": 0,
  "metadata": {
    "colab": {
      "name": "single_string_from_all_the_elements_in_list.ipynb",
      "version": "0.3.2",
      "provenance": [],
      "collapsed_sections": [],
      "include_colab_link": true
    }
  },
  "cells": [
    {
      "cell_type": "markdown",
      "metadata": {
        "id": "view-in-github",
        "colab_type": "text"
      },
      "source": [
        "[View in Colaboratory](https://colab.research.google.com/github/gmihaila/snippets_py/blob/master/single_string_from_all_the_elements_in_list.ipynb)"
      ]
    },
    {
      "metadata": {
        "id": "SFvaxl0jdfoP",
        "colab_type": "text"
      },
      "cell_type": "markdown",
      "source": [
        "# Create a single string from all the elements in list"
      ]
    },
    {
      "metadata": {
        "id": "Ez3ksC9tdJX-",
        "colab_type": "code",
        "colab": {
          "base_uri": "https://localhost:8080/",
          "height": 35
        },
        "outputId": "665eed4a-686c-4a0d-8b04-e2d0eacf7580"
      },
      "cell_type": "code",
      "source": [
        "a = [\"Python\", \"is\", \"awesome!\"]\n",
        "print(\" \".join(a))"
      ],
      "execution_count": 0,
      "outputs": [
        {
          "output_type": "stream",
          "text": [
            "Python is awesome!\n"
          ],
          "name": "stdout"
        }
      ]
    }
  ]
}