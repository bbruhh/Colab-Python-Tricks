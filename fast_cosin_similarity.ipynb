{
  "nbformat": 4,
  "nbformat_minor": 0,
  "metadata": {
    "colab": {
      "name": "fast_cosin_similarity.ipynb",
      "version": "0.3.2",
      "provenance": [],
      "collapsed_sections": []
    }
  },
  "cells": [
    {
      "cell_type": "markdown",
      "metadata": {
        "id": "view-in-github",
        "colab_type": "text"
      },
      "source": [
        "[View in Colaboratory](https://colab.research.google.com/github/gmihaila/snippets_py/blob/master/fast_cosin_similarity.ipynb)"
      ]
    },
    {
      "metadata": {
        "id": "E3PFBWAR24d1",
        "colab_type": "text"
      },
      "cell_type": "markdown",
      "source": [
        "## Fast Cosine Similarity\n",
        "\n",
        "by GeorgeM"
      ]
    },
    {
      "metadata": {
        "id": "DiJ21bFM3Jcb",
        "colab_type": "code",
        "colab": {}
      },
      "cell_type": "code",
      "source": [
        "import os\n",
        "import sys\n",
        "import numpy as np "
      ],
      "execution_count": 0,
      "outputs": []
    },
    {
      "metadata": {
        "id": "aDjkHAus2xeo",
        "colab_type": "code",
        "colab": {}
      },
      "cell_type": "code",
      "source": [
        "def CosineSim(a, b):\n",
        "  \n",
        "  \"\"\"Takes 2 vectors a, b and returns the cosine similarity according \n",
        "      to the definition of the dot product\n",
        "  \"\"\"\n",
        "  \n",
        "  dot_product = np.dot(a, b)\n",
        "  norm_a = np.linalg.norm(a)\n",
        "  norm_b = np.linalg.norm(b)\n",
        "  \n",
        "  return dot_product / (norm_a * norm_b)"
      ],
      "execution_count": 0,
      "outputs": []
    },
    {
      "metadata": {
        "id": "aXyIY7Qo3OCa",
        "colab_type": "code",
        "colab": {
          "base_uri": "https://localhost:8080/",
          "height": 33
        },
        "outputId": "09b8c115-c643-49e4-8606-38d9df6c05b1"
      },
      "cell_type": "code",
      "source": [
        "a = np.random.random(300)\n",
        "b = np.random.random(300)\n",
        "\n",
        "print CosineSim(a,b)"
      ],
      "execution_count": 14,
      "outputs": [
        {
          "output_type": "stream",
          "text": [
            "0.7410744493178272\n"
          ],
          "name": "stdout"
        }
      ]
    }
  ]
}