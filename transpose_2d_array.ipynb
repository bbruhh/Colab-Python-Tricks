{
  "nbformat": 4,
  "nbformat_minor": 0,
  "metadata": {
    "colab": {
      "name": "transpose_2d_array.ipynb",
      "version": "0.3.2",
      "provenance": [],
      "collapsed_sections": [],
      "include_colab_link": true
    }
  },
  "cells": [
    {
      "cell_type": "markdown",
      "metadata": {
        "id": "view-in-github",
        "colab_type": "text"
      },
      "source": [
        "[View in Colaboratory](https://colab.research.google.com/github/gmihaila/snippets_py/blob/master/transpose_2d_array.ipynb)"
      ]
    },
    {
      "metadata": {
        "id": "08cDaghKivJN",
        "colab_type": "text"
      },
      "cell_type": "markdown",
      "source": [
        "# Transpose 2d array"
      ]
    },
    {
      "metadata": {
        "id": "WLs2CB59irT8",
        "colab_type": "code",
        "colab": {
          "base_uri": "https://localhost:8080/",
          "height": 35
        },
        "outputId": "9a4a26a4-8bd6-4161-cc71-0d38faf3bc69"
      },
      "cell_type": "code",
      "source": [
        "''' transpose 2d array [[a,b], [c,d], [e,f]] -> [[a,c,e], [b,d,f]] '''\n",
        "\n",
        "original = [['a', 'b'], ['c','d'], ['e', 'f']]\n",
        "transposed = zip(*original)\n",
        "print(list(transposed))"
      ],
      "execution_count": 1,
      "outputs": [
        {
          "output_type": "stream",
          "text": [
            "[('a', 'c', 'e'), ('b', 'd', 'f')]\n"
          ],
          "name": "stdout"
        }
      ]
    }
  ]
}