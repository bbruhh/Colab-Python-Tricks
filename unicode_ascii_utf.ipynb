{
  "nbformat": 4,
  "nbformat_minor": 0,
  "metadata": {
    "colab": {
      "name": "unicode_ascii_utf.ipynb",
      "version": "0.3.2",
      "provenance": [],
      "collapsed_sections": [],
      "include_colab_link": true
    },
    "kernelspec": {
      "name": "python3",
      "display_name": "Python 3"
    }
  },
  "cells": [
    {
      "cell_type": "markdown",
      "metadata": {
        "id": "view-in-github",
        "colab_type": "text"
      },
      "source": [
        "[View in Colaboratory](https://colab.research.google.com/github/gmihaila/snippets_py/blob/master/unicode_ascii_utf.ipynb)"
      ]
    },
    {
      "metadata": {
        "id": "dMOjHBWcJPfK",
        "colab_type": "text"
      },
      "cell_type": "markdown",
      "source": [
        "### Dealing with UNICODE or ASCII"
      ]
    },
    {
      "metadata": {
        "id": "jzbCePewJOPt",
        "colab_type": "code",
        "colab": {}
      },
      "cell_type": "code",
      "source": [
        "import string\n",
        "from unicodedata import normalize"
      ],
      "execution_count": 0,
      "outputs": []
    },
    {
      "metadata": {
        "id": "KgY0GJI8JUmO",
        "colab_type": "code",
        "colab": {}
      },
      "cell_type": "code",
      "source": [
        "x = 'Düsseldorf'"
      ],
      "execution_count": 0,
      "outputs": []
    },
    {
      "metadata": {
        "id": "E_6KvWlKKQrx",
        "colab_type": "code",
        "colab": {
          "base_uri": "https://localhost:8080/",
          "height": 34
        },
        "outputId": "d8c770c9-575e-4f0a-f7a2-7e87cf896878"
      },
      "cell_type": "code",
      "source": [
        "# In Python 2, str is not a string! It's just a sequence of bytes\n",
        "type(x)"
      ],
      "execution_count": 3,
      "outputs": [
        {
          "output_type": "execute_result",
          "data": {
            "text/plain": [
              "str"
            ]
          },
          "metadata": {
            "tags": []
          },
          "execution_count": 3
        }
      ]
    },
    {
      "metadata": {
        "id": "eZYlowRsK22W",
        "colab_type": "code",
        "colab": {
          "base_uri": "https://localhost:8080/",
          "height": 34
        },
        "outputId": "51616871-8b58-455d-dd56-a70841662f23"
      },
      "cell_type": "code",
      "source": [
        "x[0]"
      ],
      "execution_count": 0,
      "outputs": [
        {
          "output_type": "execute_result",
          "data": {
            "text/plain": [
              "'D'"
            ]
          },
          "metadata": {
            "tags": []
          },
          "execution_count": 12
        }
      ]
    },
    {
      "metadata": {
        "id": "_02btbUkLPCp",
        "colab_type": "text"
      },
      "cell_type": "markdown",
      "source": [
        "Weird things happen in Python 2 if you think str is a string. To be safe, whenever you read a str into your program, convert it to Unicode right away using .decode('utf-8'). Then work only with unicode objects throughout your program. Don't ever work directly with str objects, or else you will be in a world of pain!\n",
        "\n",
        "In Python 2, the unicode type represents a real string, whereas the str type is a sequence of bytes."
      ]
    },
    {
      "metadata": {
        "id": "MUicYmMyMK_4",
        "colab_type": "code",
        "colab": {
          "base_uri": "https://localhost:8080/",
          "height": 34
        },
        "outputId": "c8499d52-155a-4739-bc9f-25c61b0cda74"
      },
      "cell_type": "code",
      "source": [
        "# PYTHON 2\n",
        "x = 'Düsseldorf'\n",
        "x = x.decode('utf-8')\n",
        "x = normalize('NFD', x).encode('ascii', 'ignore')\n",
        "# x = x.decode('UTF-8')\n",
        "print(x)"
      ],
      "execution_count": 4,
      "outputs": [
        {
          "output_type": "stream",
          "text": [
            "Dusseldorf\n"
          ],
          "name": "stdout"
        }
      ]
    },
    {
      "metadata": {
        "id": "1vLosp-9rXXk",
        "colab_type": "code",
        "colab": {
          "base_uri": "https://localhost:8080/",
          "height": 34
        },
        "outputId": "72ec2a8f-809c-42e7-81c4-e16e00dc5281"
      },
      "cell_type": "code",
      "source": [
        "# PYTHON 3\n",
        "x = 'Düsseldorf'\n",
        "x = normalize('NFD', x).encode('ascii', 'ignore')\n",
        "x = x.decode('utf-8')\n",
        "\n",
        "print(x)"
      ],
      "execution_count": 4,
      "outputs": [
        {
          "output_type": "stream",
          "text": [
            "Dusseldorf\n"
          ],
          "name": "stdout"
        }
      ]
    }
  ]
}