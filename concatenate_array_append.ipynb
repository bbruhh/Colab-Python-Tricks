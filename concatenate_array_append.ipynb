{
  "nbformat": 4,
  "nbformat_minor": 0,
  "metadata": {
    "colab": {
      "name": "concatenate_array_append.ipynb",
      "version": "0.3.2",
      "provenance": [],
      "collapsed_sections": [],
      "include_colab_link": true
    },
    "kernelspec": {
      "name": "python2",
      "display_name": "Python 2"
    }
  },
  "cells": [
    {
      "cell_type": "markdown",
      "metadata": {
        "id": "view-in-github",
        "colab_type": "text"
      },
      "source": [
        "<a href=\"https://colab.research.google.com/github/gmihaila/snippets_py/blob/master/concatenate_array_append.ipynb\" target=\"_parent\"><img src=\"https://colab.research.google.com/assets/colab-badge.svg\" alt=\"Open In Colab\"/></a>"
      ]
    },
    {
      "metadata": {
        "id": "c1EunCluxCrY",
        "colab_type": "text"
      },
      "cell_type": "markdown",
      "source": [
        "## Concatenate 2 arrays\n"
      ]
    },
    {
      "metadata": {
        "id": "fjSUG0QCw-Qm",
        "colab_type": "code",
        "colab": {
          "base_uri": "https://localhost:8080/",
          "height": 34
        },
        "outputId": "f5357778-78e7-4f8e-b8b2-7cc519f37ff1"
      },
      "cell_type": "code",
      "source": [
        "# for Python 3\n",
        "\n",
        "a = [1,2,3,4]\n",
        "\n",
        "b = [5,6,7]\n",
        "\n",
        "c = [*a, *b]\n",
        "\n",
        "print(c)"
      ],
      "execution_count": 2,
      "outputs": [
        {
          "output_type": "stream",
          "text": [
            "[1, 2, 3, 4, 5, 6, 7]\n"
          ],
          "name": "stdout"
        }
      ]
    },
    {
      "metadata": {
        "id": "rmt1VNS1xWfa",
        "colab_type": "code",
        "colab": {
          "base_uri": "https://localhost:8080/",
          "height": 34
        },
        "outputId": "1a6fa582-50b7-42ff-b430-c81b8bbe5d05"
      },
      "cell_type": "code",
      "source": [
        "# for Python 2\n",
        "\n",
        "a = [1,2,3,4]\n",
        "\n",
        "b = [5,6,7]\n",
        "\n",
        "c = a+b\n",
        "\n",
        "print(c)"
      ],
      "execution_count": 3,
      "outputs": [
        {
          "output_type": "stream",
          "text": [
            "[1, 2, 3, 4, 5, 6, 7]\n"
          ],
          "name": "stdout"
        }
      ]
    }
  ]
}