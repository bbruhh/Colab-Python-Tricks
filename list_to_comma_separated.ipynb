{
  "nbformat": 4,
  "nbformat_minor": 0,
  "metadata": {
    "colab": {
      "name": "list_to_comma_separated.ipynb",
      "version": "0.3.2",
      "provenance": [],
      "collapsed_sections": [],
      "include_colab_link": true
    }
  },
  "cells": [
    {
      "cell_type": "markdown",
      "metadata": {
        "id": "view-in-github",
        "colab_type": "text"
      },
      "source": [
        "[View in Colaboratory](https://colab.research.google.com/github/gmihaila/snippets_py/blob/master/list_to_comma_separated.ipynb)"
      ]
    },
    {
      "metadata": {
        "id": "HcCNFR5CxaL8",
        "colab_type": "text"
      },
      "cell_type": "markdown",
      "source": [
        "## Convert list to comma separated"
      ]
    },
    {
      "metadata": {
        "id": "K1luwQoAxcnU",
        "colab_type": "code",
        "colab": {
          "base_uri": "https://localhost:8080/",
          "height": 70
        },
        "outputId": "5e1468b3-f3db-48ec-d554-99c295f05c37"
      },
      "cell_type": "code",
      "source": [
        "# Stirngs mix\n",
        "strings = [\"I\", \"am\", \"a\", \"dog\"]\n",
        "\n",
        "print('_'.join(strings))\n",
        "\n",
        "\n",
        "# integers mix\n",
        "numbers = [1,2,3,4,5]\n",
        "\n",
        "print(', '.join(map(str, numbers)))\n",
        "\n",
        "\n",
        "# Both\n",
        "data = [1,2,\"cat\", 3,5]\n",
        "print(', '.join(map(str, data)))\n"
      ],
      "execution_count": 7,
      "outputs": [
        {
          "output_type": "stream",
          "text": [
            "I_am_a_dog\n",
            "1, 2, 3, 4, 5\n",
            "1, 2, cat, 3, 5\n"
          ],
          "name": "stdout"
        }
      ]
    }
  ]
}