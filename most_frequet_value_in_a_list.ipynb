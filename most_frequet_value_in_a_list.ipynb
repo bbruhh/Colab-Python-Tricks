{
  "nbformat": 4,
  "nbformat_minor": 0,
  "metadata": {
    "colab": {
      "name": "most_frequet_value_in_a_list.ipynb",
      "version": "0.3.2",
      "provenance": [],
      "collapsed_sections": [],
      "include_colab_link": true
    },
    "kernelspec": {
      "name": "python3",
      "display_name": "Python 3"
    }
  },
  "cells": [
    {
      "cell_type": "markdown",
      "metadata": {
        "id": "view-in-github",
        "colab_type": "text"
      },
      "source": [
        "[View in Colaboratory](https://colab.research.google.com/github/gmihaila/snippets_py/blob/master/most_frequet_value_in_a_list.ipynb)"
      ]
    },
    {
      "metadata": {
        "id": "zcN3bILAeDJD",
        "colab_type": "text"
      },
      "cell_type": "markdown",
      "source": [
        "# Find The Most Frequent Value In A List."
      ]
    },
    {
      "metadata": {
        "id": "IyLrceCDd5ej",
        "colab_type": "code",
        "colab": {
          "base_uri": "https://localhost:8080/",
          "height": 35
        },
        "outputId": "a05ff8b1-a835-463c-89b8-f052fef1cd5e"
      },
      "cell_type": "code",
      "source": [
        "a = [1,2,3,1,2,3,2,2,4,5,1]\n",
        "\n",
        "print(max(set(a),key = a.count))"
      ],
      "execution_count": 1,
      "outputs": [
        {
          "output_type": "stream",
          "text": [
            "2\n"
          ],
          "name": "stdout"
        }
      ]
    },
    {
      "metadata": {
        "id": "VLfo_-D9eB9_",
        "colab_type": "code",
        "colab": {
          "base_uri": "https://localhost:8080/",
          "height": 35
        },
        "outputId": "3cca7248-5fb7-4eff-b23d-1bd3b1671e33"
      },
      "cell_type": "code",
      "source": [
        "''' using counter from collection '''\n",
        "from collections import Counter\n",
        "\n",
        "cnt = Counter(a)\n",
        "print(cnt.most_common(3))"
      ],
      "execution_count": 2,
      "outputs": [
        {
          "output_type": "stream",
          "text": [
            "[(2, 4), (1, 3), (3, 2)]\n"
          ],
          "name": "stdout"
        }
      ]
    }
  ]
}