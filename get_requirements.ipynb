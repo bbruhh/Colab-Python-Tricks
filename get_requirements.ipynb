{
  "nbformat": 4,
  "nbformat_minor": 0,
  "metadata": {
    "colab": {
      "name": "get_requirements.ipynb",
      "version": "0.3.2",
      "provenance": [],
      "collapsed_sections": [],
      "include_colab_link": true
    },
    "kernelspec": {
      "name": "python3",
      "display_name": "Python 3"
    }
  },
  "cells": [
    {
      "cell_type": "markdown",
      "metadata": {
        "id": "view-in-github",
        "colab_type": "text"
      },
      "source": [
        "<a href=\"https://colab.research.google.com/github/gmihaila/snippets_py/blob/master/get_requirements.ipynb\" target=\"_parent\"><img src=\"https://colab.research.google.com/assets/colab-badge.svg\" alt=\"Open In Colab\"/></a>"
      ]
    },
    {
      "metadata": {
        "id": "ydGu127PzAo5",
        "colab_type": "text"
      },
      "cell_type": "markdown",
      "source": [
        "## Get requirements library to install for a project\n",
        "\n",
        "pipreqs solves the problem. It generates project-level requirement.txt file.\n",
        "\n",
        "Generate project-level requirement.txt file: pipreqs /path/to/your/project/\n",
        "requirements file would be saved in /path/to/your/project/requirements.txt\n",
        "If you want to read more advantages of pipreqs over pip freeze, read it from here\n",
        "\n",
        "\n"
      ]
    },
    {
      "metadata": {
        "id": "4TDQj7G0y9vV",
        "colab_type": "code",
        "colab": {}
      },
      "cell_type": "code",
      "source": [
        "!pip install pipreqs"
      ],
      "execution_count": 0,
      "outputs": []
    },
    {
      "metadata": {
        "id": "FEFX6aQK2ZUU",
        "colab_type": "code",
        "colab": {}
      },
      "cell_type": "code",
      "source": [
        " pipreqs /path/to/your/project/"
      ],
      "execution_count": 0,
      "outputs": []
    }
  ]
}