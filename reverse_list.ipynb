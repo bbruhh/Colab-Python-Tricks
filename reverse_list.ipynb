{
  "nbformat": 4,
  "nbformat_minor": 0,
  "metadata": {
    "colab": {
      "name": "reverse_list.ipynb",
      "version": "0.3.2",
      "provenance": [],
      "collapsed_sections": [],
      "include_colab_link": true
    }
  },
  "cells": [
    {
      "cell_type": "markdown",
      "metadata": {
        "id": "view-in-github",
        "colab_type": "text"
      },
      "source": [
        "[View in Colaboratory](https://colab.research.google.com/github/gmihaila/snippets_py/blob/master/reverse_list.ipynb)"
      ]
    },
    {
      "metadata": {
        "id": "jWR29FOriCu9",
        "colab_type": "text"
      },
      "cell_type": "markdown",
      "source": [
        "# Reverse a list"
      ]
    },
    {
      "metadata": {
        "id": "2XNoD2oFh-kW",
        "colab_type": "code",
        "colab": {
          "base_uri": "https://localhost:8080/",
          "height": 35
        },
        "outputId": "d51da7c5-d13f-4956-f709-a38f739ecd1c"
      },
      "cell_type": "code",
      "source": [
        "''' reversing list with special case of slice step param '''\n",
        "\n",
        "a = [1,2,3,4,5]\n",
        "print(a[::-1])"
      ],
      "execution_count": 2,
      "outputs": [
        {
          "output_type": "stream",
          "text": [
            "[5, 4, 3, 2, 1]\n"
          ],
          "name": "stdout"
        }
      ]
    },
    {
      "metadata": {
        "id": "gdlpV_9tiWv2",
        "colab_type": "code",
        "colab": {
          "base_uri": "https://localhost:8080/",
          "height": 107
        },
        "outputId": "059de3e2-ff6e-41ec-d826-636dec7d6f06"
      },
      "cell_type": "code",
      "source": [
        "''' iterate over list contents in reverse efficiently'''\n",
        "for elm in reversed(a):\n",
        "  print(elm)"
      ],
      "execution_count": 3,
      "outputs": [
        {
          "output_type": "stream",
          "text": [
            "5\n",
            "4\n",
            "3\n",
            "2\n",
            "1\n"
          ],
          "name": "stdout"
        }
      ]
    }
  ]
}