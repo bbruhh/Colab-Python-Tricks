{
  "nbformat": 4,
  "nbformat_minor": 0,
  "metadata": {
    "colab": {
      "name": "check_valid_link.ipynb",
      "version": "0.3.2",
      "provenance": [],
      "collapsed_sections": [],
      "include_colab_link": true
    }
  },
  "cells": [
    {
      "cell_type": "markdown",
      "metadata": {
        "id": "view-in-github",
        "colab_type": "text"
      },
      "source": [
        "[View in Colaboratory](https://colab.research.google.com/github/gmihaila/snippets_py/blob/master/check_valid_link.ipynb)"
      ]
    },
    {
      "metadata": {
        "id": "C50TtwiBekOZ",
        "colab_type": "text"
      },
      "cell_type": "markdown",
      "source": [
        "## Check to see if link is valid"
      ]
    },
    {
      "metadata": {
        "id": "RudNUQBmehrl",
        "colab_type": "code",
        "colab": {
          "base_uri": "https://localhost:8080/",
          "height": 34
        },
        "outputId": "ff80dca3-accf-430e-dcd3-8f0de42cdaf5"
      },
      "cell_type": "code",
      "source": [
        "import requests\n",
        "\n",
        "try:\n",
        "  response = requests.get(\"http://hfinal_url.com\")\n",
        "  # chekc if repsonds\n",
        "  if response.status_code == 200:\n",
        "    print(\"Linke works!\")\n",
        "except:\n",
        "  print(\"Invalid\") "
      ],
      "execution_count": 4,
      "outputs": [
        {
          "output_type": "stream",
          "text": [
            "Invalid\n"
          ],
          "name": "stdout"
        }
      ]
    },
    {
      "metadata": {
        "id": "3jNE40XbfAZb",
        "colab_type": "code",
        "colab": {
          "base_uri": "https://localhost:8080/",
          "height": 52
        },
        "outputId": "01eac8df-94df-417c-aad3-d2da642749dc"
      },
      "cell_type": "code",
      "source": [
        "try:\n",
        "  response = requests.get(\"http://github.com\")\n",
        "  print(\"Links exists!\")\n",
        "  # chekc if repsonds\n",
        "  if response.status_code == 200:\n",
        "    print(\"Linke works!\")\n",
        "except:\n",
        "  print(\"Invalid\") "
      ],
      "execution_count": 5,
      "outputs": [
        {
          "output_type": "stream",
          "text": [
            "Links exists!\n",
            "Linke works!\n"
          ],
          "name": "stdout"
        }
      ]
    }
  ]
}