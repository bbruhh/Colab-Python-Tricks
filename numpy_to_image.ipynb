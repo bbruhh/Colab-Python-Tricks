{
  "nbformat": 4,
  "nbformat_minor": 0,
  "metadata": {
    "colab": {
      "name": "numpy_to_image.ipynb",
      "version": "0.3.2",
      "provenance": [],
      "collapsed_sections": [],
      "include_colab_link": true
    }
  },
  "cells": [
    {
      "cell_type": "markdown",
      "metadata": {
        "id": "view-in-github",
        "colab_type": "text"
      },
      "source": [
        "[View in Colaboratory](https://colab.research.google.com/github/gmihaila/snippets_py/blob/master/numpy_to_image.ipynb)"
      ]
    },
    {
      "metadata": {
        "id": "iFK3FOhQuCjF",
        "colab_type": "text"
      },
      "cell_type": "markdown",
      "source": [
        "## Numpy to Image Save and print."
      ]
    },
    {
      "metadata": {
        "id": "Y99GOh_zqofx",
        "colab_type": "code",
        "colab": {
          "base_uri": "https://localhost:8080/",
          "height": 292
        },
        "outputId": "e99111dd-df35-4bcc-ae95-fce636e5f8d5"
      },
      "cell_type": "code",
      "source": [
        "import numpy as np\n",
        "from PIL import Image\n",
        "from matplotlib import pyplot as plt\n",
        "\n",
        "\n",
        "array = np.zeros([100, 200, 3], dtype=np.uint8)\n",
        "\n",
        "array[:,:100] = [255, 128, 0] #Orange left side\n",
        "\n",
        "array[:,100:] = [0, 0, 255]   #Blue right side\n",
        "\n",
        "image = Image.fromarray(array)\n",
        "\n",
        "# plot the image\n",
        "graph = plt.imshow(image)\n",
        "plt.grid(False)\n",
        "plt.show()\n",
        "\n",
        "# save image\n",
        "image.save(\"test.PNG\")\n",
        "!ls"
      ],
      "execution_count": 21,
      "outputs": [
        {
          "output_type": "display_data",
          "data": {
            "image/png": "[encoded data removed]",
            "text/plain": [
              "<matplotlib.figure.Figure at 0x7f6b268d2310>"
            ]
          },
          "metadata": {
            "tags": []
          }
        },
        {
          "output_type": "stream",
          "text": [
            "sample_data  test.PNG\n"
          ],
          "name": "stdout"
        }
      ]
    }
  ]
}