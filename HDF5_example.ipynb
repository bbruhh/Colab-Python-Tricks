{
  "nbformat": 4,
  "nbformat_minor": 0,
  "metadata": {
    "colab": {
      "name": "HDF5_example.ipynb",
      "version": "0.3.2",
      "provenance": [],
      "collapsed_sections": []
    }
  },
  "cells": [
    {
      "cell_type": "markdown",
      "metadata": {
        "id": "view-in-github",
        "colab_type": "text"
      },
      "source": [
        "[View in Colaboratory](https://colab.research.google.com/github/gmihaila/snippets_py/blob/master/HDF5_example.ipynb)"
      ]
    },
    {
      "metadata": {
        "id": "NWnCTqiyn9zu",
        "colab_type": "text"
      },
      "cell_type": "markdown",
      "source": [
        "## HDF5 Example\n",
        "\n",
        "by GeorgeM"
      ]
    },
    {
      "metadata": {
        "id": "a9GcFfsSoAUv",
        "colab_type": "code",
        "colab": {}
      },
      "cell_type": "code",
      "source": [
        "import numpy as np\n",
        "import h5py"
      ],
      "execution_count": 0,
      "outputs": []
    },
    {
      "metadata": {
        "id": "wzFqk0dfpUto",
        "colab_type": "code",
        "colab": {
          "base_uri": "https://localhost:8080/",
          "height": 34
        },
        "outputId": "37966614-e7cd-45f2-e049-fa48d578f50f"
      },
      "cell_type": "code",
      "source": [
        "rm *.h5"
      ],
      "execution_count": 16,
      "outputs": [
        {
          "output_type": "stream",
          "text": [
            "rm: cannot remove '*.h5': No such file or directory\r\n"
          ],
          "name": "stdout"
        }
      ]
    },
    {
      "metadata": {
        "id": "ur-2oIdmoBav",
        "colab_type": "code",
        "colab": {}
      },
      "cell_type": "code",
      "source": [
        "d1 = np.random.random(size = (5,2))\n",
        "d2 = np.random.random(size = (2,3))"
      ],
      "execution_count": 0,
      "outputs": []
    },
    {
      "metadata": {
        "id": "4-ty2p2UoGTn",
        "colab_type": "code",
        "colab": {
          "base_uri": "https://localhost:8080/",
          "height": 34
        },
        "outputId": "5097bf7a-77f1-4571-c401-b40d1cdbc1fe"
      },
      "cell_type": "code",
      "source": [
        "print d1.shape, d2.shape"
      ],
      "execution_count": 27,
      "outputs": [
        {
          "output_type": "stream",
          "text": [
            "(5, 2) (2, 3)\n"
          ],
          "name": "stdout"
        }
      ]
    },
    {
      "metadata": {
        "id": "N6C1JVCSodMf",
        "colab_type": "text"
      },
      "cell_type": "markdown",
      "source": [
        "### Writing to HDF5"
      ]
    },
    {
      "metadata": {
        "id": "tZnVT7d5oMlA",
        "colab_type": "text"
      },
      "cell_type": "markdown",
      "source": [
        "The first step to creating a HDF5 file is to initialise it. It uses a very similar syntax to initialising a typical text file in numpy. The first argument provides the filename and location, the second the mode. We’re writing the file, so we provide a w for write access."
      ]
    },
    {
      "metadata": {
        "id": "mSLnb_iKoJQd",
        "colab_type": "code",
        "colab": {}
      },
      "cell_type": "code",
      "source": [
        "hf = h5py.File('data.h5', 'w')"
      ],
      "execution_count": 0,
      "outputs": []
    },
    {
      "metadata": {
        "id": "7zjf69LyoPGM",
        "colab_type": "text"
      },
      "cell_type": "markdown",
      "source": [
        "This creates a file object, hf, which has a bunch of associated methods. One is create_dataset, which does what it says on the tin. Just provide a name for the dataset, and the numpy array."
      ]
    },
    {
      "metadata": {
        "id": "lM0io_AwoQKR",
        "colab_type": "code",
        "colab": {
          "base_uri": "https://localhost:8080/",
          "height": 34
        },
        "outputId": "ffde7299-c738-48f6-fd7d-c397b767f22b"
      },
      "cell_type": "code",
      "source": [
        "hf.create_dataset('dataset_1', data=d1)\n",
        "hf.create_dataset('dataset_2', data=d2)"
      ],
      "execution_count": 19,
      "outputs": [
        {
          "output_type": "execute_result",
          "data": {
            "text/plain": [
              "<HDF5 dataset \"dataset_2\": shape (2, 3), type \"<f8\">"
            ]
          },
          "metadata": {
            "tags": []
          },
          "execution_count": 19
        }
      ]
    },
    {
      "metadata": {
        "id": "O_JxChtKoVBI",
        "colab_type": "text"
      },
      "cell_type": "markdown",
      "source": [
        "All we need to do now is close the file, which will write all of our work to disk."
      ]
    },
    {
      "metadata": {
        "id": "WdJnmizHoVWb",
        "colab_type": "code",
        "colab": {}
      },
      "cell_type": "code",
      "source": [
        "hf.close()"
      ],
      "execution_count": 0,
      "outputs": []
    },
    {
      "metadata": {
        "id": "XInWqdxopClc",
        "colab_type": "code",
        "colab": {
          "base_uri": "https://localhost:8080/",
          "height": 34
        },
        "outputId": "3ebeaa09-d24d-4780-b75e-20eb29207e51"
      },
      "cell_type": "code",
      "source": [
        "ls"
      ],
      "execution_count": 21,
      "outputs": [
        {
          "output_type": "stream",
          "text": [
            "data.h5  \u001b[0m\u001b[01;34mdatalab\u001b[0m/\r\n"
          ],
          "name": "stdout"
        }
      ]
    },
    {
      "metadata": {
        "id": "AqHmU_wfoZ8v",
        "colab_type": "text"
      },
      "cell_type": "markdown",
      "source": [
        "### Reading HDF5 files"
      ]
    },
    {
      "metadata": {
        "id": "hqRMV0AnojjE",
        "colab_type": "text"
      },
      "cell_type": "markdown",
      "source": [
        "To open and read data we use the same File method in read mode, r."
      ]
    },
    {
      "metadata": {
        "id": "N49TVQAiohG3",
        "colab_type": "code",
        "colab": {}
      },
      "cell_type": "code",
      "source": [
        "hf = h5py.File('data.h5', 'r')"
      ],
      "execution_count": 0,
      "outputs": []
    },
    {
      "metadata": {
        "id": "Jcp87jCOonzr",
        "colab_type": "text"
      },
      "cell_type": "markdown",
      "source": [
        "To see what data is in this file, we can call the keys() method on the file object."
      ]
    },
    {
      "metadata": {
        "id": "f5ShV9tfKDDj",
        "colab_type": "code",
        "colab": {}
      },
      "cell_type": "code",
      "source": [
        ""
      ],
      "execution_count": 0,
      "outputs": []
    },
    {
      "metadata": {
        "id": "p5X_EcHhopIR",
        "colab_type": "code",
        "colab": {
          "base_uri": "https://localhost:8080/",
          "height": 34
        },
        "outputId": "fba6c53a-1ed7-49c6-edaf-c46a52e1280f"
      },
      "cell_type": "code",
      "source": [
        "hf.keys()"
      ],
      "execution_count": 31,
      "outputs": [
        {
          "output_type": "execute_result",
          "data": {
            "text/plain": [
              "u'dataset_1'"
            ]
          },
          "metadata": {
            "tags": []
          },
          "execution_count": 31
        }
      ]
    },
    {
      "metadata": {
        "id": "mNfFOhr2ova4",
        "colab_type": "text"
      },
      "cell_type": "markdown",
      "source": [
        "We can then grab each dataset we created above using the get method, specifying the name."
      ]
    },
    {
      "metadata": {
        "id": "6wiKEnEfowT4",
        "colab_type": "code",
        "colab": {}
      },
      "cell_type": "code",
      "source": [
        "n1 = hf.get('dataset_1')"
      ],
      "execution_count": 0,
      "outputs": []
    },
    {
      "metadata": {
        "id": "mvWPue-Aoz5h",
        "colab_type": "text"
      },
      "cell_type": "markdown",
      "source": [
        "This returns a HDF5 dataset object. To convert this to an array, just call numpy’s array method."
      ]
    },
    {
      "metadata": {
        "id": "yrc9Hyw7o0le",
        "colab_type": "code",
        "colab": {
          "base_uri": "https://localhost:8080/",
          "height": 102
        },
        "outputId": "8817876b-52fe-4dd7-fd2c-5e37775d674a"
      },
      "cell_type": "code",
      "source": [
        "n1 = np.array(n1)\n",
        "n1.shape\n",
        "print n1"
      ],
      "execution_count": 33,
      "outputs": [
        {
          "output_type": "stream",
          "text": [
            "[[0.91087591 0.80776751]\n",
            " [0.40758381 0.15286796]\n",
            " [0.19163313 0.94243426]\n",
            " [0.01503315 0.11613209]\n",
            " [0.68599703 0.57080034]]\n"
          ],
          "name": "stdout"
        }
      ]
    },
    {
      "metadata": {
        "id": "5PVWnmgho7ix",
        "colab_type": "code",
        "colab": {}
      },
      "cell_type": "code",
      "source": [
        "hf.close()"
      ],
      "execution_count": 0,
      "outputs": []
    }
  ]
}