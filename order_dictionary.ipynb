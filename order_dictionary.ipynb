{
  "nbformat": 4,
  "nbformat_minor": 0,
  "metadata": {
    "colab": {
      "name": "order_dictionary.ipynb",
      "version": "0.3.2",
      "provenance": [],
      "collapsed_sections": [],
      "include_colab_link": true
    },
    "kernelspec": {
      "name": "python2",
      "display_name": "Python 2"
    },
    "accelerator": "GPU"
  },
  "cells": [
    {
      "cell_type": "markdown",
      "metadata": {
        "id": "view-in-github",
        "colab_type": "text"
      },
      "source": [
        "[View in Colaboratory](https://colab.research.google.com/github/gmihaila/snippets_py/blob/master/order_dictionary.ipynb)"
      ]
    },
    {
      "metadata": {
        "id": "h4lAjtBWXPFx",
        "colab_type": "text"
      },
      "cell_type": "markdown",
      "source": [
        "# Sorting Dictionary by key or value in Python3 and Python2"
      ]
    },
    {
      "metadata": {
        "id": "Z-PdwuukXKEm",
        "colab_type": "code",
        "colab": {
          "base_uri": "https://localhost:8080/",
          "height": 35
        },
        "outputId": "b7e5ec4b-b629-4d90-ee35-a6dc06899bbe"
      },
      "cell_type": "code",
      "source": [
        "# toy example\n",
        "\n",
        "mydict = {'carl':40, 'alan':2, 'bob':1, 'danny':0}\n",
        "print(mydict)"
      ],
      "execution_count": 1,
      "outputs": [
        {
          "output_type": "stream",
          "text": [
            "{'bob': 1, 'danny': 0, 'alan': 2, 'carl': 40}\n"
          ],
          "name": "stdout"
        }
      ]
    },
    {
      "metadata": {
        "id": "Fmdyek4JXU7y",
        "colab_type": "text"
      },
      "cell_type": "markdown",
      "source": [
        "## Python 3"
      ]
    },
    {
      "metadata": {
        "id": "7gPmToOSXWnl",
        "colab_type": "code",
        "colab": {
          "base_uri": "https://localhost:8080/",
          "height": 35
        },
        "outputId": "bba06056-89d6-49fa-f1a9-a7cf3ecd8c96"
      },
      "cell_type": "code",
      "source": [
        "# How to sort a dict by value Python 3>\n",
        "sort = {key:value for key, value in sorted(mydict.items(), key=lambda kv: (kv[1], kv[0]))}\n",
        "print(sort)"
      ],
      "execution_count": 4,
      "outputs": [
        {
          "output_type": "stream",
          "text": [
            "{'bob': 1, 'danny': 0, 'carl': 40, 'alan': 2}\n"
          ],
          "name": "stdout"
        }
      ]
    },
    {
      "metadata": {
        "id": "YihV6laKXwTW",
        "colab_type": "code",
        "colab": {
          "base_uri": "https://localhost:8080/",
          "height": 35
        },
        "outputId": "e901fe5a-90e6-4346-cce0-7fd1b6046405"
      },
      "cell_type": "code",
      "source": [
        "# How to sort a dict by key Python 3>\n",
        "sort = {key:mydict[key] for key in sorted(mydict.keys())}\n",
        "print(sort)"
      ],
      "execution_count": 5,
      "outputs": [
        {
          "output_type": "stream",
          "text": [
            "{'bob': 1, 'danny': 0, 'carl': 40, 'alan': 2}\n"
          ],
          "name": "stdout"
        }
      ]
    },
    {
      "metadata": {
        "id": "w3qv1f-DXOGm",
        "colab_type": "text"
      },
      "cell_type": "markdown",
      "source": [
        "## Python 2"
      ]
    },
    {
      "metadata": {
        "id": "wwJ53L30X8NV",
        "colab_type": "code",
        "colab": {
          "base_uri": "https://localhost:8080/",
          "height": 35
        },
        "outputId": "6eaec889-5913-4d7a-b1ac-c5e0539ea9aa"
      },
      "cell_type": "code",
      "source": [
        "# How to sort a dict by value Python 2>\n",
        "sort = {key:value for key, value in sorted(mydict.iteritems(), key=lambda (k,v): (v,k))}\n",
        "print(sort)"
      ],
      "execution_count": 11,
      "outputs": [
        {
          "output_type": "stream",
          "text": [
            "{'bob': 1, 'danny': 0, 'carl': 40, 'alan': 2, 'sex': 69}\n"
          ],
          "name": "stdout"
        }
      ]
    },
    {
      "metadata": {
        "id": "Y43jc06gX_No",
        "colab_type": "code",
        "colab": {
          "base_uri": "https://localhost:8080/",
          "height": 35
        },
        "outputId": "e3802579-0192-4784-d1cb-97d1332f34d7"
      },
      "cell_type": "code",
      "source": [
        "# How to sort a dict by key Python 2>\n",
        "sort = {key:mydict[key] for key in sorted(mydict.iterkeys())}\n",
        "print(sort)"
      ],
      "execution_count": 12,
      "outputs": [
        {
          "output_type": "stream",
          "text": [
            "{'bob': 1, 'danny': 0, 'carl': 40, 'alan': 2, 'sex': 69}\n"
          ],
          "name": "stdout"
        }
      ]
    }
  ]
}