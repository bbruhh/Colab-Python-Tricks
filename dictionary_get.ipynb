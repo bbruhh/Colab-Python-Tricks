{
  "nbformat": 4,
  "nbformat_minor": 0,
  "metadata": {
    "colab": {
      "name": "dictionary_get.ipynb",
      "version": "0.3.2",
      "provenance": [],
      "collapsed_sections": [],
      "include_colab_link": true
    }
  },
  "cells": [
    {
      "cell_type": "markdown",
      "metadata": {
        "id": "view-in-github",
        "colab_type": "text"
      },
      "source": [
        "[View in Colaboratory](https://colab.research.google.com/github/gmihaila/snippets_py/blob/master/dictionary_get.ipynb)"
      ]
    },
    {
      "metadata": {
        "id": "xBg-M7UJwObi",
        "colab_type": "text"
      },
      "cell_type": "markdown",
      "source": [
        "## Dictionary Get\n"
      ]
    },
    {
      "metadata": {
        "id": "gnS4An4XwETg",
        "colab_type": "code",
        "colab": {
          "base_uri": "https://localhost:8080/",
          "height": 52
        },
        "outputId": "de083a72-0dda-4c8c-b8ab-c8db9b89cc02"
      },
      "cell_type": "code",
      "source": [
        "# return non value when key is not in dictionary\n",
        "\n",
        "a = {1:'a', 3:'v', 99:'B'}\n",
        "\n",
        "print(a.get(1, 'None'))\n",
        "print(a.get(98, 'None'))"
      ],
      "execution_count": 2,
      "outputs": [
        {
          "output_type": "stream",
          "text": [
            "a\n",
            "None\n"
          ],
          "name": "stdout"
        }
      ]
    }
  ]
}