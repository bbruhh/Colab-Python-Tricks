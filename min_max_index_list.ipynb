{
  "nbformat": 4,
  "nbformat_minor": 0,
  "metadata": {
    "colab": {
      "name": "min_max_index_list.ipynb",
      "version": "0.3.2",
      "provenance": [],
      "collapsed_sections": [],
      "include_colab_link": true
    }
  },
  "cells": [
    {
      "cell_type": "markdown",
      "metadata": {
        "id": "view-in-github",
        "colab_type": "text"
      },
      "source": [
        "[View in Colaboratory](https://colab.research.google.com/github/gmihaila/snippets_py/blob/master/min_max_index_list.ipynb)"
      ]
    },
    {
      "metadata": {
        "id": "_cHz1Fw1zVny",
        "colab_type": "text"
      },
      "cell_type": "markdown",
      "source": [
        "## Min and Max index in List"
      ]
    },
    {
      "metadata": {
        "id": "GyYzg1P7zUua",
        "colab_type": "code",
        "colab": {
          "base_uri": "https://localhost:8080/",
          "height": 52
        },
        "outputId": "dca8ea53-7d02-4a74-af79-257ec70f39ff"
      },
      "cell_type": "code",
      "source": [
        "lst = [233, 35, 6575, 23, 243, 56]\n",
        "\n",
        "def MinIndex(lst):\n",
        "  return min(range(len(lst)), key=lst.__getitem__)\n",
        "\n",
        "def MaxIndex(lst):\n",
        "  return max(range(len(lst)), key=lst.__getitem__)\n",
        "\n",
        "\n",
        "print(\"Min %s\"%MinIndex(lst))\n",
        "print(\"Max %s\"%MaxIndex(lst))"
      ],
      "execution_count": 6,
      "outputs": [
        {
          "output_type": "stream",
          "text": [
            "Min 3\n",
            "Max 2\n"
          ],
          "name": "stdout"
        }
      ]
    }
  ]
}