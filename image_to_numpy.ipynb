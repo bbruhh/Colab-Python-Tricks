{
  "nbformat": 4,
  "nbformat_minor": 0,
  "metadata": {
    "colab": {
      "name": "image_to_numpy.ipynb",
      "version": "0.3.2",
      "provenance": [],
      "collapsed_sections": [],
      "include_colab_link": true
    }
  },
  "cells": [
    {
      "cell_type": "markdown",
      "metadata": {
        "id": "view-in-github",
        "colab_type": "text"
      },
      "source": [
        "[View in Colaboratory](https://colab.research.google.com/github/gmihaila/snippets_py/blob/master/image_to_numpy.ipynb)"
      ]
    },
    {
      "metadata": {
        "id": "s8H5_zMMufvv",
        "colab_type": "text"
      },
      "cell_type": "markdown",
      "source": [
        "### Image to Numpy\n"
      ]
    },
    {
      "metadata": {
        "id": "UFB-cpIJvFKx",
        "colab_type": "code",
        "colab": {}
      },
      "cell_type": "code",
      "source": [
        "# download image\n",
        "!wget https://upload.wikimedia.org/wikipedia/commons/thumb/0/0f/Grosser_Panda.JPG/1200px-Grosser_Panda.JPG\n",
        "!ls"
      ],
      "execution_count": 0,
      "outputs": []
    },
    {
      "metadata": {
        "id": "yntVLGJ_ukYI",
        "colab_type": "code",
        "colab": {
          "base_uri": "https://localhost:8080/",
          "height": 35
        },
        "outputId": "a28c7f31-8f46-4667-9b16-b0af4d3f489f"
      },
      "cell_type": "code",
      "source": [
        "import numpy as np\n",
        "from PIL import Image\n",
        "from matplotlib import pyplot as plt\n",
        "\n",
        "# image 2 numpy\n",
        "img = Image.open('1200px-Grosser_Panda.JPG')\n",
        "array = np.array(img)\n",
        "print(array.shape)      # (800, 1200, 3)"
      ],
      "execution_count": 5,
      "outputs": [
        {
          "output_type": "stream",
          "text": [
            "(800, 1200, 3)\n"
          ],
          "name": "stdout"
        }
      ]
    }
  ]
}