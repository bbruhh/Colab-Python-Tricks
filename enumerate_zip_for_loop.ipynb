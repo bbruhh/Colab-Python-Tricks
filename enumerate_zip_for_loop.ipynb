{
  "nbformat": 4,
  "nbformat_minor": 0,
  "metadata": {
    "colab": {
      "name": "enumerate_zip_for_loop.ipynb",
      "version": "0.3.2",
      "provenance": [],
      "collapsed_sections": [],
      "include_colab_link": true
    }
  },
  "cells": [
    {
      "cell_type": "markdown",
      "metadata": {
        "id": "view-in-github",
        "colab_type": "text"
      },
      "source": [
        "[View in Colaboratory](https://colab.research.google.com/github/gmihaila/snippets_py/blob/master/enumerate_zip_for_loop.ipynb)"
      ]
    },
    {
      "metadata": {
        "id": "IjSSuI8TZMs1",
        "colab_type": "text"
      },
      "cell_type": "markdown",
      "source": [
        "## How to enumerate and zip in same for looop"
      ]
    },
    {
      "metadata": {
        "id": "Az6U0J7-ZG8W",
        "colab_type": "code",
        "colab": {
          "base_uri": "https://localhost:8080/",
          "height": 35
        },
        "outputId": "afccb680-78ce-451d-a143-78a1090b2947"
      },
      "cell_type": "code",
      "source": [
        "a = [1,2,3,4,5]\n",
        "b = [1,5,3,2,6]\n",
        "\n",
        "print([i for i, (x,y) in enumerate(zip(a,b)) if x == y])"
      ],
      "execution_count": 2,
      "outputs": [
        {
          "output_type": "stream",
          "text": [
            "[0, 2]\n"
          ],
          "name": "stdout"
        }
      ]
    }
  ]
}