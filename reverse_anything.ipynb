{
  "nbformat": 4,
  "nbformat_minor": 0,
  "metadata": {
    "colab": {
      "name": "reverse_anything.ipynb",
      "version": "0.3.2",
      "provenance": [],
      "collapsed_sections": [],
      "include_colab_link": true
    }
  },
  "cells": [
    {
      "cell_type": "markdown",
      "metadata": {
        "id": "view-in-github",
        "colab_type": "text"
      },
      "source": [
        "[View in Colaboratory](https://colab.research.google.com/github/gmihaila/snippets_py/blob/master/reverse_anything.ipynb)"
      ]
    },
    {
      "metadata": {
        "id": "ufURTJmGUlFs",
        "colab_type": "text"
      },
      "cell_type": "markdown",
      "source": [
        "## Reverse anything from string to lists and arrays"
      ]
    },
    {
      "metadata": {
        "id": "1g1F_tDbUiVW",
        "colab_type": "code",
        "colab": {
          "base_uri": "https://localhost:8080/",
          "height": 70
        },
        "outputId": "908f8585-161b-44fa-a855-72f6917d5bb2"
      },
      "cell_type": "code",
      "source": [
        "print(\"heloo how are you\"[::-1])\n",
        "\n",
        "print([1,2,3,4,5][::-1])\n",
        "\n",
        "print(\"George\"[::-1])"
      ],
      "execution_count": 3,
      "outputs": [
        {
          "output_type": "stream",
          "text": [
            "uoy era woh ooleh\n",
            "[5, 4, 3, 2, 1]\n",
            "egroeG\n"
          ],
          "name": "stdout"
        }
      ]
    }
  ]
}