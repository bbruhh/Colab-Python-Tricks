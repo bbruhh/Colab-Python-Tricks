{
  "nbformat": 4,
  "nbformat_minor": 0,
  "metadata": {
    "colab": {
      "name": "for_else.ipynb",
      "version": "0.3.2",
      "provenance": [],
      "collapsed_sections": [],
      "include_colab_link": true
    }
  },
  "cells": [
    {
      "cell_type": "markdown",
      "metadata": {
        "id": "view-in-github",
        "colab_type": "text"
      },
      "source": [
        "[View in Colaboratory](https://colab.research.google.com/github/gmihaila/snippets_py/blob/master/for_else.ipynb)"
      ]
    },
    {
      "metadata": {
        "id": "jEBkwB61w-nk",
        "colab_type": "text"
      },
      "cell_type": "markdown",
      "source": [
        "## For Else"
      ]
    },
    {
      "metadata": {
        "id": "j9Fa9X_Tw8_T",
        "colab_type": "code",
        "colab": {
          "base_uri": "https://localhost:8080/",
          "height": 34
        },
        "outputId": "25bb0eef-eeb9-4f34-d934-1dd5192c13bd"
      },
      "cell_type": "code",
      "source": [
        "a = [1,2,3,4,5,6]\n",
        "\n",
        "for i in a:\n",
        "  if i == 0:\n",
        "    break\n",
        "else:\n",
        "  print(\"Did not reach loop!\")"
      ],
      "execution_count": 1,
      "outputs": [
        {
          "output_type": "stream",
          "text": [
            "Did not reach loop!\n"
          ],
          "name": "stdout"
        }
      ]
    }
  ]
}