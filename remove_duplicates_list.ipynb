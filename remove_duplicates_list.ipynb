{
  "nbformat": 4,
  "nbformat_minor": 0,
  "metadata": {
    "colab": {
      "name": "remove_duplicates_list.ipynb",
      "version": "0.3.2",
      "provenance": [],
      "collapsed_sections": [],
      "include_colab_link": true
    }
  },
  "cells": [
    {
      "cell_type": "markdown",
      "metadata": {
        "id": "view-in-github",
        "colab_type": "text"
      },
      "source": [
        "[View in Colaboratory](https://colab.research.google.com/github/gmihaila/snippets_py/blob/master/remove_duplicates_list.ipynb)"
      ]
    },
    {
      "metadata": {
        "id": "Uc3TW4hY0Hl7",
        "colab_type": "text"
      },
      "cell_type": "markdown",
      "source": [
        "## Remove duplicates from a list"
      ]
    },
    {
      "metadata": {
        "id": "eCSCbiQo0HAJ",
        "colab_type": "code",
        "colab": {
          "base_uri": "https://localhost:8080/",
          "height": 34
        },
        "outputId": "473bb381-9032-4eb5-e794-915ff439dbe6"
      },
      "cell_type": "code",
      "source": [
        "lst = [1,2,3,4,6,5,3,7,8,9,3,2,6,4,5]\n",
        "\n",
        "print(list(set(lst)))"
      ],
      "execution_count": 1,
      "outputs": [
        {
          "output_type": "stream",
          "text": [
            "[1, 2, 3, 4, 5, 6, 7, 8, 9]\n"
          ],
          "name": "stdout"
        }
      ]
    },
    {
      "metadata": {
        "id": "fnylZ5z10Vt_",
        "colab_type": "code",
        "colab": {
          "base_uri": "https://localhost:8080/",
          "height": 34
        },
        "outputId": "809b3c3e-3097-41f5-f320-4a48e5c51482"
      },
      "cell_type": "code",
      "source": [
        "\n",
        "# remove dups and keep order\n",
        "\n",
        "from collections import OrderedDict\n",
        "\n",
        "lst = [\"I\", \"am\", \"am\", \"a\", \"hero\"]\n",
        "print(list(OrderedDict.fromkeys(lst).keys()))"
      ],
      "execution_count": 4,
      "outputs": [
        {
          "output_type": "stream",
          "text": [
            "['I', 'am', 'a', 'hero']\n"
          ],
          "name": "stdout"
        }
      ]
    }
  ]
}